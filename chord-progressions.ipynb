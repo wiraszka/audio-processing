{
 "cells": [
  {
   "cell_type": "code",
   "execution_count": 6,
   "id": "0e51a902",
   "metadata": {},
   "outputs": [],
   "source": [
    "import numpy as np\n",
    "import os\n",
    "import pandas as pd"
   ]
  },
  {
   "cell_type": "code",
   "execution_count": 7,
   "id": "e2aa3e41",
   "metadata": {},
   "outputs": [
    {
     "data": {
      "text/html": [
       "<div>\n",
       "<style scoped>\n",
       "    .dataframe tbody tr th:only-of-type {\n",
       "        vertical-align: middle;\n",
       "    }\n",
       "\n",
       "    .dataframe tbody tr th {\n",
       "        vertical-align: top;\n",
       "    }\n",
       "\n",
       "    .dataframe thead th {\n",
       "        text-align: right;\n",
       "    }\n",
       "</style>\n",
       "<table border=\"1\" class=\"dataframe\">\n",
       "  <thead>\n",
       "    <tr style=\"text-align: right;\">\n",
       "      <th></th>\n",
       "      <th>Style</th>\n",
       "      <th>Progression</th>\n",
       "      <th>Transposable</th>\n",
       "    </tr>\n",
       "  </thead>\n",
       "  <tbody>\n",
       "    <tr>\n",
       "      <th>0</th>\n",
       "      <td>Blues</td>\n",
       "      <td>I-V-IV-IV-I-V-I-V</td>\n",
       "      <td>yes</td>\n",
       "    </tr>\n",
       "    <tr>\n",
       "      <th>1</th>\n",
       "      <td>Pachelbel</td>\n",
       "      <td>I-V-vi-iii-IV-I-IV-V</td>\n",
       "      <td>no</td>\n",
       "    </tr>\n",
       "    <tr>\n",
       "      <th>2</th>\n",
       "      <td>Romanesca</td>\n",
       "      <td>III-VII-i-V-III-VII-i-V-i</td>\n",
       "      <td>no</td>\n",
       "    </tr>\n",
       "    <tr>\n",
       "      <th>3</th>\n",
       "      <td>Popular</td>\n",
       "      <td>I-V-IV</td>\n",
       "      <td>yes</td>\n",
       "    </tr>\n",
       "    <tr>\n",
       "      <th>4</th>\n",
       "      <td>Popular</td>\n",
       "      <td>I–V–VI–IV</td>\n",
       "      <td>yes</td>\n",
       "    </tr>\n",
       "  </tbody>\n",
       "</table>\n",
       "</div>"
      ],
      "text/plain": [
       "       Style                Progression Transposable\n",
       "0      Blues          I-V-IV-IV-I-V-I-V          yes\n",
       "1  Pachelbel       I-V-vi-iii-IV-I-IV-V           no\n",
       "2  Romanesca  III-VII-i-V-III-VII-i-V-i           no\n",
       "3    Popular                     I-V-IV          yes\n",
       "4    Popular                  I–V–VI–IV          yes"
      ]
     },
     "execution_count": 7,
     "metadata": {},
     "output_type": "execute_result"
    }
   ],
   "source": [
    "# Load survey csv file as pandas dataframe.\n",
    "with open('C:/Users/Adam/Desktop/Projects/Datasets/chord-progressions/chord-prog.csv') as data_file:\n",
    "    chord_progressions = pd.read_csv(data_file)\n",
    "\n",
    "# Show dataframe.\n",
    "chord_progressions.head()"
   ]
  },
  {
   "cell_type": "code",
   "execution_count": null,
   "id": "117bb590",
   "metadata": {},
   "outputs": [],
   "source": []
  }
 ],
 "metadata": {
  "kernelspec": {
   "display_name": "Python 3",
   "language": "python",
   "name": "python3"
  },
  "language_info": {
   "codemirror_mode": {
    "name": "ipython",
    "version": 3
   },
   "file_extension": ".py",
   "mimetype": "text/x-python",
   "name": "python",
   "nbconvert_exporter": "python",
   "pygments_lexer": "ipython3",
   "version": "3.8.8"
  }
 },
 "nbformat": 4,
 "nbformat_minor": 5
}
