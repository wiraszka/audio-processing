{
 "cells": [
  {
   "cell_type": "markdown",
   "id": "2a976e84",
   "metadata": {},
   "source": [
    "# Basic Note Detection"
   ]
  },
  {
   "cell_type": "markdown",
   "id": "03d68e8b",
   "metadata": {},
   "source": [
    "Author: Adam Wiraszka  \n",
    "Date Created: 2024-03-14  \n",
    "\n",
    "Simple python notebook that can be used to detect and visualize notes in a short audio file (mostly suited for monophonic audio).  \n",
    "\n",
    "Includes:\n",
    "- Converting Frequency to approximate notes.  \n",
    "- Ploting frequency spectrum over time at standard time intervals (Hanning Window).   \n",
    "- Use ffmpeg to create mp4 video showing frequency spectrum over time with labeled notes.  \n",
    "\n",
    "Code adapted from the following sources:  \n",
    "https://github.com/jeffheaton/present/blob/master/youtube/video/fft-frequency.ipynb\\  \n",
    "https://newt.phys.unsw.edu.au/jw/notes.html  \n",
    "https://www.youtube.com/watch?v=rj9NOiFLxWA"
   ]
  },
  {
   "cell_type": "markdown",
   "id": "15180627",
   "metadata": {},
   "source": [
    "**Set path and reset image dump folder**"
   ]
  },
  {
   "cell_type": "code",
   "execution_count": 1,
   "id": "4aa2d39e",
   "metadata": {},
   "outputs": [],
   "source": [
    "from pathlib import Path\n",
    "import os, glob\n",
    "\n",
    "PATH = Path.cwd()\n",
    "\n",
    "# Check if content directory exists, create one if not.\n",
    "f = Path.cwd().joinpath(\"content\")\n",
    "if not f.is_dir(): \n",
    "    f.mkdir()\n",
    "\n",
    "# Delete image files currently in directory.\n",
    "for file in os.scandir(f):\n",
    "    os.remove(file.path)"
   ]
  },
  {
   "cell_type": "markdown",
   "id": "54e69b31",
   "metadata": {},
   "source": [
    "**Set constants**"
   ]
  },
  {
   "cell_type": "code",
   "execution_count": 2,
   "id": "020be272",
   "metadata": {},
   "outputs": [],
   "source": [
    "# Config\n",
    "FPS = 30\n",
    "FFT_WINDOW_SECONDS = 0.25 # how many seconds of audio make up an FFT window\n",
    "\n",
    "# Note range to display\n",
    "FREQ_MIN = 10\n",
    "FREQ_MAX = 1000\n",
    "\n",
    "# Notes to display\n",
    "TOP_NOTES = 3\n",
    "\n",
    "# Names of the notes\n",
    "NOTE_NAMES = ['C', 'C#', 'D', 'D#', 'E', 'F', 'F#', 'G', 'G#', 'A', 'A#', 'B']\n",
    "\n",
    "# Output size. Generally use SCALE for higher res, unless you need a non-standard aspect ratio.\n",
    "RESOLUTION = (1920, 1080)\n",
    "SCALE = 1 # 0.5=QHD(960x540), 1=HD(1920x1080), 2=4K(3840x2160)"
   ]
  },
  {
   "cell_type": "markdown",
   "id": "05d6cc9a",
   "metadata": {},
   "source": [
    "**Choose Audio File**"
   ]
  },
  {
   "cell_type": "code",
   "execution_count": 3,
   "id": "97a8cd32",
   "metadata": {},
   "outputs": [],
   "source": [
    "import os\n",
    "\n",
    "AUDIO_FILE = os.path.join(PATH,'Hey_You_1.wav')"
   ]
  },
  {
   "cell_type": "markdown",
   "id": "81b425b2",
   "metadata": {},
   "source": [
    "**Load audio file and set up x domain (time)** "
   ]
  },
  {
   "cell_type": "code",
   "execution_count": 4,
   "id": "63dc3220",
   "metadata": {},
   "outputs": [
    {
     "name": "stdout",
     "output_type": "stream",
     "text": [
      "16.653854875283447\n"
     ]
    },
    {
     "name": "stderr",
     "output_type": "stream",
     "text": [
      "<ipython-input-4-690bc461f980>:6: WavFileWarning: Chunk (non-data) not understood, skipping it.\n",
      "  fs, data = wavfile.read(os.path.join(PATH,AUDIO_FILE)) # load data into array\n"
     ]
    }
   ],
   "source": [
    "import matplotlib.pyplot as plt\n",
    "from scipy.fftpack import fft\n",
    "from scipy.io import wavfile\n",
    "\n",
    "\n",
    "fs, data = wavfile.read(os.path.join(PATH,AUDIO_FILE)) # load data into array\n",
    "audio = data.T[0] # this is a two channel soundtrack, get the first track\n",
    "FRAME_STEP = (fs / FPS) # audio samples per video frame\n",
    "FFT_WINDOW_SIZE = int(fs * FFT_WINDOW_SECONDS)\n",
    "AUDIO_LENGTH = len(audio)/fs\n",
    "\n",
    "print(AUDIO_LENGTH)"
   ]
  },
  {
   "cell_type": "markdown",
   "id": "49ffdcd8",
   "metadata": {},
   "source": [
    "**Several Utility Functions**  \n",
    "- Plot Frequency Spectrum  \n",
    "- Extract Samples  \n",
    "- Find Top Notes  "
   ]
  },
  {
   "cell_type": "code",
   "execution_count": 5,
   "id": "cb0edbcb",
   "metadata": {},
   "outputs": [],
   "source": [
    "import plotly.graph_objects as go\n",
    "\n",
    "def plot_fft(p, xf, fs, notes, dimensions=(960,540)):\n",
    "    layout = go.Layout(\n",
    "      title=\"frequency spectrum\",\n",
    "      autosize=False,\n",
    "      width=dimensions[0],\n",
    "      height=dimensions[1],\n",
    "      xaxis_title=\"Frequency (note)\",\n",
    "      yaxis_title=\"Magnitude\",\n",
    "      font={'size' : 24}\n",
    "    )\n",
    "\n",
    "    fig = go.Figure(layout=layout,\n",
    "                  layout_xaxis_range=[FREQ_MIN,FREQ_MAX],\n",
    "                  layout_yaxis_range=[0,1]\n",
    "                  )\n",
    "  \n",
    "    fig.add_trace(go.Scatter(\n",
    "      x = xf,\n",
    "      y = p))\n",
    "  \n",
    "    for note in notes:\n",
    "        fig.add_annotation(x=note[0]+10, y=note[2],\n",
    "            text=note[1],\n",
    "            font = {'size' : 48},\n",
    "            showarrow=False)\n",
    "    return fig\n",
    "\n",
    "def extract_sample(audio, frame_number):\n",
    "    end = frame_number * FRAME_OFFSET\n",
    "    begin = int(end - FFT_WINDOW_SIZE)\n",
    "\n",
    "    if end == 0:\n",
    "        # We have no audio yet, return all zeros (very beginning)\n",
    "        return np.zeros((np.abs(begin)),dtype=float)\n",
    "    elif begin<0:\n",
    "        # We have some audio, padd with zeros\n",
    "        return np.concatenate([np.zeros((np.abs(begin)),dtype=float),audio[0:end]])\n",
    "    else:\n",
    "        # Usually this happens, return the next sample\n",
    "        return audio[begin:end]\n",
    "\n",
    "def find_top_notes(fft,num):\n",
    "    if np.max(fft.real)<0.001:\n",
    "        return []\n",
    "\n",
    "    lst = [x for x in enumerate(fft.real)]\n",
    "    lst = sorted(lst, key=lambda x: x[1],reverse=True)\n",
    "\n",
    "    idx = 0\n",
    "    found = []\n",
    "    found_note = set()\n",
    "    while( (idx<len(lst)) and (len(found)<num) ):\n",
    "        f = xf[lst[idx][0]]\n",
    "        y = lst[idx][1]\n",
    "        n = freq_to_number(f)\n",
    "        n0 = int(round(n))\n",
    "        name = note_name(n0)\n",
    "\n",
    "        if name not in found_note:\n",
    "            found_note.add(name)\n",
    "            s = [f,note_name(n0),y]\n",
    "            found.append(s)\n",
    "        idx += 1\n",
    "    \n",
    "    return found"
   ]
  },
  {
   "cell_type": "markdown",
   "id": "5350f9d4",
   "metadata": {},
   "source": [
    "**Convert Frequency to Note**"
   ]
  },
  {
   "cell_type": "code",
   "execution_count": 6,
   "id": "ea83ac05",
   "metadata": {},
   "outputs": [],
   "source": [
    "import numpy as np\n",
    "\n",
    "def freq_to_number(f): return 69 + 12*np.log2(f/440.0)\n",
    "def number_to_freq(n): return 440 * 2.0**((n-69)/12.0)\n",
    "def note_name(n): return NOTE_NAMES[n % 12] + str(int(n/12 - 1))"
   ]
  },
  {
   "cell_type": "markdown",
   "id": "44ccd584",
   "metadata": {},
   "source": [
    "**Hanning Window Function**"
   ]
  },
  {
   "cell_type": "code",
   "execution_count": 7,
   "id": "f9e23adc",
   "metadata": {},
   "outputs": [
    {
     "name": "stdout",
     "output_type": "stream",
     "text": [
      "Frame Count: 499\n",
      "Frame Offset: 1471\n"
     ]
    }
   ],
   "source": [
    "# Hanning window function\n",
    "window = 0.5 * (1 - np.cos(np.linspace(0, 2*np.pi, FFT_WINDOW_SIZE, False)))\n",
    "\n",
    "xf = np.fft.rfftfreq(FFT_WINDOW_SIZE, 1/fs)\n",
    "FRAME_COUNT = int(AUDIO_LENGTH*FPS)\n",
    "FRAME_OFFSET = int(len(audio)/FRAME_COUNT)\n",
    "\n",
    "print(f\"Frame Count: {FRAME_COUNT}\")\n",
    "print(f\"Frame Offset: {FRAME_OFFSET}\")"
   ]
  },
  {
   "cell_type": "markdown",
   "id": "70c68952",
   "metadata": {},
   "source": [
    "**Pass 1 - Find out the maximum amplitude so we can scale**"
   ]
  },
  {
   "cell_type": "code",
   "execution_count": 8,
   "id": "d563952a",
   "metadata": {},
   "outputs": [
    {
     "name": "stdout",
     "output_type": "stream",
     "text": [
      "Max amplitude: 585466845891.2194\n"
     ]
    }
   ],
   "source": [
    "mx = 0\n",
    "for frame_number in range(FRAME_COUNT):\n",
    "    sample = extract_sample(audio, frame_number)\n",
    "\n",
    "    fft = np.fft.rfft(sample * window)\n",
    "    fft = np.abs(fft).real \n",
    "    mx = max(np.max(fft),mx)\n",
    "\n",
    "print(f\"Max amplitude: {mx}\")"
   ]
  },
  {
   "cell_type": "markdown",
   "id": "f5db4e52",
   "metadata": {},
   "source": [
    "**Pass 2 - Produce the Animation**"
   ]
  },
  {
   "cell_type": "code",
   "execution_count": 9,
   "id": "0f0185b5",
   "metadata": {},
   "outputs": [
    {
     "name": "stderr",
     "output_type": "stream",
     "text": [
      "100%|████████████████████████████████████████████████████████████████████████████████| 499/499 [01:42<00:00,  4.85it/s]\n"
     ]
    }
   ],
   "source": [
    "import tqdm\n",
    "\n",
    "for frame_number in tqdm.tqdm(range(FRAME_COUNT)):\n",
    "    p = Path.cwd()\n",
    "    sample = extract_sample(audio, frame_number)\n",
    "\n",
    "    fft = np.fft.rfft(sample * window)\n",
    "    fft = np.abs(fft) / mx \n",
    "     \n",
    "    s = find_top_notes(fft,TOP_NOTES)\n",
    "\n",
    "    fig = plot_fft(fft.real,xf,fs,s,RESOLUTION)\n",
    "    \n",
    "    filename = f.joinpath(f\"frame{frame_number}.png\")\n",
    "    \n",
    "    fig.write_image(filename, format='png', engine='kaleido')"
   ]
  },
  {
   "cell_type": "markdown",
   "id": "93b174e6",
   "metadata": {},
   "source": [
    "**Use ffmpeg to combine the input audio WAV and the individual frame images into a MP4 video.**"
   ]
  },
  {
   "cell_type": "code",
   "execution_count": 10,
   "id": "8e2e55b5",
   "metadata": {},
   "outputs": [],
   "source": [
    "import ffmpeg"
   ]
  },
  {
   "cell_type": "code",
   "execution_count": 11,
   "id": "1a21be65",
   "metadata": {},
   "outputs": [
    {
     "name": "stderr",
     "output_type": "stream",
     "text": [
      "ffmpeg version 4.3.1-2020-11-19-essentials_build-www.gyan.dev Copyright (c) 2000-2020 the FFmpeg developers\n",
      "  built with gcc 10.2.0 (Rev5, Built by MSYS2 project)\n",
      "  configuration: --enable-gpl --enable-version3 --enable-static --disable-w32threads --disable-autodetect --enable-fontconfig --enable-iconv --enable-gnutls --enable-libxml2 --enable-gmp --enable-lzma --enable-zlib --enable-libsrt --enable-libssh --enable-libzmq --enable-avisynth --enable-sdl2 --enable-libwebp --enable-libx264 --enable-libx265 --enable-libxvid --enable-libaom --enable-libopenjpeg --enable-libvpx --enable-libass --enable-libfreetype --enable-libfribidi --enable-libvidstab --enable-libvmaf --enable-libzimg --enable-amf --enable-cuda-llvm --enable-cuvid --enable-ffnvcodec --enable-nvdec --enable-nvenc --enable-d3d11va --enable-dxva2 --enable-libmfx --enable-libgme --enable-libopenmpt --enable-libopencore-amrwb --enable-libmp3lame --enable-libtheora --enable-libvo-amrwbenc --enable-libgsm --enable-libopencore-amrnb --enable-libopus --enable-libspeex --enable-libvorbis --enable-librubberband\n",
      "  libavutil      56. 51.100 / 56. 51.100\n",
      "  libavcodec     58. 91.100 / 58. 91.100\n",
      "  libavformat    58. 45.100 / 58. 45.100\n",
      "  libavdevice    58. 10.100 / 58. 10.100\n",
      "  libavfilter     7. 85.100 /  7. 85.100\n",
      "  libswscale      5.  7.100 /  5.  7.100\n",
      "  libswresample   3.  7.100 /  3.  7.100\n",
      "  libpostproc    55.  7.100 / 55.  7.100\n",
      "Input #0, image2, from 'C:/Users/Adam/Desktop/Projects/audio_processing/content/frame%d.png':\n",
      "  Duration: 00:00:16.63, start: 0.000000, bitrate: N/A\n",
      "    Stream #0:0: Video: png, rgba(pc), 1920x1080, 30 fps, 30 tbr, 30 tbn, 30 tbc\n",
      "Guessed Channel Layout for Input Stream #1.0 : stereo\n",
      "Input #1, wav, from 'C:\\Users\\Adam\\Desktop\\Projects\\audio_processing\\Hey_You_1.wav':\n",
      "  Metadata:\n",
      "    encoder         : FL Studio 12\n",
      "  Duration: 00:00:16.65, bitrate: 2116 kb/s\n",
      "    Stream #1:0: Audio: pcm_s24le ([1][0][0][0] / 0x0001), 44100 Hz, stereo, s32 (24 bit), 2116 kb/s\n",
      "Stream mapping:\n",
      "  Stream #0:0 -> #0:0 (png (native) -> h264 (libx264))\n",
      "  Stream #1:0 -> #0:1 (pcm_s24le (native) -> aac (native))\n",
      "Press [q] to stop, [?] for help\n",
      "[image2 @ 0000028be654e940] Thread message queue blocking; consider raising the thread_queue_size option (current value: 8)\n",
      "[libx264 @ 0000028be75d3840] using cpu capabilities: MMX2 SSE2Fast SSSE3 SSE4.2 AVX FMA3 BMI2 AVX2\n",
      "[libx264 @ 0000028be75d3840] profile High, level 4.0, 4:2:0, 8-bit\n",
      "[libx264 @ 0000028be75d3840] 264 - core 161 r3027 4121277 - H.264/MPEG-4 AVC codec - Copyleft 2003-2020 - http://www.videolan.org/x264.html - options: cabac=1 ref=3 deblock=1:0:0 analyse=0x3:0x113 me=hex subme=7 psy=1 psy_rd=1.00:0.00 mixed_ref=1 me_range=16 chroma_me=1 trellis=1 8x8dct=1 cqm=0 deadzone=21,11 fast_pskip=1 chroma_qp_offset=-2 threads=6 lookahead_threads=1 sliced_threads=0 nr=0 decimate=1 interlaced=0 bluray_compat=0 constrained_intra=0 bframes=3 b_pyramid=2 b_adapt=1 b_bias=0 direct=1 weightb=1 open_gop=0 weightp=2 keyint=250 keyint_min=25 scenecut=40 intra_refresh=0 rc_lookahead=40 rc=crf mbtree=1 crf=23.0 qcomp=0.60 qpmin=0 qpmax=69 qpstep=4 ip_ratio=1.40 aq=1:1.00\n",
      "Output #0, mp4, to 'movie.mp4':\n",
      "  Metadata:\n",
      "    encoder         : Lavf58.45.100\n",
      "    Stream #0:0: Video: h264 (libx264) (avc1 / 0x31637661), yuv420p(progressive), 1920x1080, q=-1--1, 30 fps, 15360 tbn, 30 tbc\n",
      "    Metadata:\n",
      "      encoder         : Lavc58.91.100 libx264\n",
      "    Side data:\n",
      "      cpb: bitrate max/min/avg: 0/0/0 buffer size: 0 vbv_delay: N/A\n",
      "    Stream #0:1: Audio: aac (LC) (mp4a / 0x6134706D), 44100 Hz, stereo, fltp (24 bit), 128 kb/s\n",
      "    Metadata:\n",
      "      encoder         : Lavc58.91.100 aac\n",
      "frame=   26 fps=0.0 q=0.0 size=       0kB time=00:00:00.00 bitrate=N/A speed=   0x    \n",
      "frame=   47 fps= 37 q=0.0 size=       0kB time=00:00:00.00 bitrate=N/A speed=   0x    \n",
      "frame=   63 fps= 36 q=29.0 size=       0kB time=00:00:00.34 bitrate=   1.1kbits/s speed=0.198x    \n",
      "frame=   84 fps= 37 q=29.0 size=       0kB time=00:00:01.04 bitrate=   0.4kbits/s speed=0.458x    \n",
      "frame=  103 fps= 37 q=29.0 size=       0kB time=00:00:01.69 bitrate=   0.2kbits/s speed=0.606x    \n",
      "frame=  121 fps= 36 q=29.0 size=       0kB time=00:00:02.29 bitrate=   0.2kbits/s speed=0.684x    \n",
      "frame=  135 fps= 35 q=29.0 size=       0kB time=00:00:02.76 bitrate=   0.1kbits/s speed=0.714x    \n",
      "frame=  154 fps= 35 q=29.0 size=       0kB time=00:00:03.36 bitrate=   0.1kbits/s speed=0.769x    \n",
      "frame=  168 fps= 34 q=29.0 size=     256kB time=00:00:03.83 bitrate= 547.2kbits/s speed=0.773x    \n",
      "frame=  185 fps= 34 q=29.0 size=     256kB time=00:00:04.43 bitrate= 472.9kbits/s speed=0.811x    \n",
      "frame=  200 fps= 33 q=29.0 size=     256kB time=00:00:04.90 bitrate= 428.1kbits/s speed=0.819x    \n",
      "frame=  217 fps= 33 q=29.0 size=     256kB time=00:00:05.46 bitrate= 383.7kbits/s speed=0.84x    \n",
      "frame=  227 fps= 32 q=29.0 size=     256kB time=00:00:05.82 bitrate= 359.9kbits/s speed=0.825x    \n",
      "frame=  246 fps= 32 q=29.0 size=     256kB time=00:00:06.43 bitrate= 326.0kbits/s speed=0.85x    \n",
      "frame=  265 fps= 33 q=29.0 size=     512kB time=00:00:07.08 bitrate= 592.3kbits/s speed=0.877x    \n",
      "frame=  277 fps= 32 q=29.0 size=     512kB time=00:00:07.50 bitrate= 559.3kbits/s speed=0.871x    \n",
      "frame=  293 fps= 32 q=29.0 size=     512kB time=00:00:08.03 bitrate= 522.1kbits/s speed=0.879x    \n",
      "frame=  311 fps= 32 q=29.0 size=     512kB time=00:00:08.60 bitrate= 487.8kbits/s speed=0.889x    \n",
      "frame=  330 fps= 32 q=29.0 size=     512kB time=00:00:09.24 bitrate= 453.9kbits/s speed=0.908x    \n",
      "frame=  350 fps= 33 q=29.0 size=     512kB time=00:00:09.90 bitrate= 423.7kbits/s speed=0.927x    \n",
      "frame=  369 fps= 33 q=29.0 size=     768kB time=00:00:10.54 bitrate= 596.8kbits/s speed=0.941x    \n",
      "frame=  387 fps= 33 q=29.0 size=     768kB time=00:00:11.14 bitrate= 564.5kbits/s speed=0.953x    \n",
      "frame=  405 fps= 33 q=29.0 size=     768kB time=00:00:11.74 bitrate= 535.5kbits/s speed=0.962x    \n",
      "frame=  422 fps= 33 q=29.0 size=     768kB time=00:00:12.30 bitrate= 511.3kbits/s speed=0.967x    \n",
      "frame=  439 fps= 33 q=29.0 size=    1024kB time=00:00:12.86 bitrate= 652.0kbits/s speed=0.972x    \n",
      "frame=  457 fps= 33 q=29.0 size=    1024kB time=00:00:13.46 bitrate= 622.9kbits/s speed=0.978x    \n",
      "frame=  474 fps= 33 q=29.0 size=    1024kB time=00:00:14.03 bitrate= 597.8kbits/s speed=0.981x    \n",
      "frame=  488 fps= 33 q=29.0 size=    1024kB time=00:00:14.53 bitrate= 577.1kbits/s speed=0.981x    \n",
      "frame=  499 fps= 32 q=-1.0 Lsize=    1577kB time=00:00:16.67 bitrate= 774.8kbits/s speed=1.06x    \n",
      "video:1297kB audio:261kB subtitle:0kB other streams:0kB global headers:0kB muxing overhead: 1.210434%\n",
      "[libx264 @ 0000028be75d3840] frame I:2     Avg QP:11.27  size: 18784\n",
      "[libx264 @ 0000028be75d3840] frame P:156   Avg QP:15.78  size:  3696\n",
      "[libx264 @ 0000028be75d3840] frame B:341   Avg QP:18.73  size:  2091\n",
      "[libx264 @ 0000028be75d3840] consecutive B-frames:  7.0%  3.2%  7.2% 82.6%\n",
      "[libx264 @ 0000028be75d3840] mb I  I16..4: 85.0% 10.5%  4.5%\n",
      "[libx264 @ 0000028be75d3840] mb P  I16..4:  0.3%  0.7%  0.8%  P16..4:  1.2%  0.9%  0.4%  0.0%  0.0%    skip:95.7%\n",
      "[libx264 @ 0000028be75d3840] mb B  I16..4:  0.1%  0.1%  0.2%  B16..8:  2.6%  1.1%  0.2%  direct: 0.2%  skip:95.5%  L0:50.6% L1:44.7% BI: 4.8%\n",
      "[libx264 @ 0000028be75d3840] 8x8 transform intra:28.3% inter:24.4%\n",
      "[libx264 @ 0000028be75d3840] coded y,uvDC,uvAC intra: 22.3% 35.0% 31.5% inter: 0.5% 0.5% 0.4%\n",
      "[libx264 @ 0000028be75d3840] i16 v,h,dc,p: 75% 24%  2%  0%\n",
      "[libx264 @ 0000028be75d3840] i8 v,h,dc,ddl,ddr,vr,hd,vl,hu: 20%  5% 73%  1%  0%  0%  0%  0%  0%\n",
      "[libx264 @ 0000028be75d3840] i4 v,h,dc,ddl,ddr,vr,hd,vl,hu: 29% 25% 27%  3%  3%  4%  3%  4%  3%\n",
      "[libx264 @ 0000028be75d3840] i8c dc,h,v,p: 64% 17% 18%  1%\n",
      "[libx264 @ 0000028be75d3840] Weighted P-Frames: Y:0.0% UV:0.0%\n",
      "[libx264 @ 0000028be75d3840] ref P L0: 60.0%  3.8% 20.7% 15.5%\n",
      "[libx264 @ 0000028be75d3840] ref B L0: 78.0% 16.5%  5.5%\n",
      "[libx264 @ 0000028be75d3840] ref B L1: 93.9%  6.1%\n",
      "[libx264 @ 0000028be75d3840] kb/s:638.33\n",
      "[aac @ 0000028be65a2480] Qavg: 319.386\n"
     ]
    }
   ],
   "source": [
    "!ffmpeg -y -r {FPS} -f image2 -s 1920x1080 -i C:/Users/Adam/Desktop/Projects/audio_processing/content/frame%d.png -i {AUDIO_FILE} -c:v libx264 -pix_fmt yuv420p movie.mp4"
   ]
  }
 ],
 "metadata": {
  "kernelspec": {
   "display_name": "Python 3",
   "language": "python",
   "name": "python3"
  },
  "language_info": {
   "codemirror_mode": {
    "name": "ipython",
    "version": 3
   },
   "file_extension": ".py",
   "mimetype": "text/x-python",
   "name": "python",
   "nbconvert_exporter": "python",
   "pygments_lexer": "ipython3",
   "version": "3.8.8"
  }
 },
 "nbformat": 4,
 "nbformat_minor": 5
}
