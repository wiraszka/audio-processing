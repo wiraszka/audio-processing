{
 "cells": [
  {
   "cell_type": "markdown",
   "id": "450d7bbe",
   "metadata": {},
   "source": [
    "# **Python Audio Processing Basics**"
   ]
  },
  {
   "cell_type": "markdown",
   "id": "2aa49605",
   "metadata": {},
   "source": [
    "### Table of Contents:\n",
    "**1. Audio Processing Basics**  \n",
    "- 1.1 Audio formats  \n",
    "- 1.2 Signal parameters\n",
    "\n",
    "**2. Wave Module**  \n",
    "- 2.1 Load in audio\n",
    "- 2.2 Get signal parameters\n",
    "- 2.3 Change parameters of audio file\n",
    "- 2.3 Plot Amplitude using `Matplotlib`"
   ]
  },
  {
   "cell_type": "markdown",
   "id": "0345b5d7",
   "metadata": {},
   "source": [
    "## 1. Audio Processing Basics"
   ]
  },
  {
   "cell_type": "markdown",
   "id": "a100037d",
   "metadata": {},
   "source": [
    "**Audio Formats**\n",
    "\n",
    "`mp3` - lossy compression, compresses data to small size but with loss of data.  \n",
    "`flac` - lossless compression, allows the original data to be perfectly reconstructed from the compressed data.    \n",
    "`wav` - uncompressed, large files sizes."
   ]
  },
  {
   "cell_type": "markdown",
   "id": "ed5ada78",
   "metadata": {},
   "source": [
    "**Signal Parameters**\n",
    "\n",
    "`Number of channels`= Number of independent audio channels (1 = mono, 2 = stereo)  \n",
    "`Sample Width`= Number of bytes per sample  \n",
    "`Sample Frequency (Sample rate/framerate)`= Number of samples per second (44,100 Hz)  \n",
    "`Number of Frames`= Total number of frames  \n",
    "`Values of a Frame`= Binary format with integer values"
   ]
  },
  {
   "cell_type": "markdown",
   "id": "bf971f79",
   "metadata": {},
   "source": [
    "## 2. `Wave` Module"
   ]
  },
  {
   "cell_type": "markdown",
   "id": "97283522",
   "metadata": {},
   "source": [
    "**Load in audio**"
   ]
  },
  {
   "cell_type": "code",
   "execution_count": 1,
   "id": "d563e0cd",
   "metadata": {},
   "outputs": [],
   "source": [
    "import wave\n",
    "\n",
    "# Load in audio in 'Read Only' mode to analyze it.\n",
    "wav_obj = wave.open('Calvin Harris - Feel So Close.wav', 'rb')"
   ]
  },
  {
   "cell_type": "markdown",
   "id": "c3dd2126",
   "metadata": {},
   "source": [
    "**Get signal parameters**"
   ]
  },
  {
   "cell_type": "code",
   "execution_count": 2,
   "id": "709bd9f6",
   "metadata": {},
   "outputs": [
    {
     "name": "stdout",
     "output_type": "stream",
     "text": [
      "Number of Channels: 2\n",
      "Sample Width: 2\n",
      "Sample Frequency: 44100 Hz\n",
      "Number of Samples: 9621110\n"
     ]
    }
   ],
   "source": [
    "# Get Parameters.\n",
    "n_channels = wav_obj.getnchannels()\n",
    "sample_width = wav_obj.getsampwidth()\n",
    "sample_freq = wav_obj.getframerate()\n",
    "n_samples = wav_obj.getnframes()\n",
    "\n",
    "print('Number of Channels:', n_channels)\n",
    "print('Sample Width:', sample_width)\n",
    "print('Sample Frequency:', sample_freq, 'Hz')\n",
    "print('Number of Samples:', n_samples)"
   ]
  },
  {
   "cell_type": "code",
   "execution_count": 3,
   "id": "7cbe638a",
   "metadata": {},
   "outputs": [
    {
     "data": {
      "text/plain": [
       "_wave_params(nchannels=2, sampwidth=2, framerate=44100, nframes=9621110, comptype='NONE', compname='not compressed')"
      ]
     },
     "execution_count": 3,
     "metadata": {},
     "output_type": "execute_result"
    }
   ],
   "source": [
    "# Show all parameters..\n",
    "wav_obj.getparams()"
   ]
  },
  {
   "cell_type": "markdown",
   "id": "da642b4b",
   "metadata": {},
   "source": [
    "### Change Parameters of Audio File"
   ]
  },
  {
   "cell_type": "markdown",
   "id": "b10aa49b",
   "metadata": {},
   "source": [
    "**Open audio file in Write Only mode**"
   ]
  },
  {
   "cell_type": "code",
   "execution_count": 4,
   "id": "7d581e33",
   "metadata": {},
   "outputs": [],
   "source": [
    "# Create a new wav object using 'Write Only' mode - allows us to SET parameters.\n",
    "wav_obj_new = wave.open('Calvin Harris - Feel So Close_edit.wav', 'wb')"
   ]
  },
  {
   "cell_type": "markdown",
   "id": "5e325a71",
   "metadata": {},
   "source": [
    "**Set new signal parameters**"
   ]
  },
  {
   "cell_type": "code",
   "execution_count": 5,
   "id": "3d7a682f",
   "metadata": {},
   "outputs": [],
   "source": [
    "# Convert to mono.\n",
    "wav_obj_new.setnchannels(1)\n",
    "\n",
    "# Set sample width to 2.\n",
    "wav_obj_new.setsampwidth(2)\n",
    "\n",
    "# Set framerate to 16000.\n",
    "wav_obj_new.setframerate(16000.0)"
   ]
  },
  {
   "cell_type": "markdown",
   "id": "273a333b",
   "metadata": {},
   "source": [
    "**Write frames to audio file**"
   ]
  },
  {
   "cell_type": "code",
   "execution_count": 6,
   "id": "4cd1a187",
   "metadata": {},
   "outputs": [],
   "source": [
    "# Read and return (n) frames of audio.\n",
    "frames = wav_obj.readframes(n_samples)\n",
    "\n",
    "# Create audio file with newly set parameters.\n",
    "wav_obj_new.writeframes(frames)"
   ]
  },
  {
   "cell_type": "code",
   "execution_count": 7,
   "id": "2c8d46e7",
   "metadata": {},
   "outputs": [],
   "source": [
    "# Close wav objects.\n",
    "wav_obj_new.close()\n",
    "wav_obj.close()"
   ]
  },
  {
   "cell_type": "markdown",
   "id": "069ff106",
   "metadata": {},
   "source": [
    "**Check parameters of new audio file**"
   ]
  },
  {
   "cell_type": "code",
   "execution_count": 8,
   "id": "342bbce5",
   "metadata": {},
   "outputs": [
    {
     "data": {
      "text/plain": [
       "_wave_params(nchannels=1, sampwidth=2, framerate=16000, nframes=19242220, comptype='NONE', compname='not compressed')"
      ]
     },
     "execution_count": 8,
     "metadata": {},
     "output_type": "execute_result"
    }
   ],
   "source": [
    "wav_obj = wave.open('Calvin Harris - Feel So Close_edit.wav', 'rb')\n",
    "\n",
    "# Show all parameters..\n",
    "wav_obj.getparams()"
   ]
  },
  {
   "cell_type": "code",
   "execution_count": 9,
   "id": "e8c60e26",
   "metadata": {},
   "outputs": [],
   "source": [
    "wav_obj.close()"
   ]
  },
  {
   "cell_type": "markdown",
   "id": "df195c23",
   "metadata": {},
   "source": [
    "## **Plotting Signal Amplitude using Matplotlib**"
   ]
  },
  {
   "cell_type": "code",
   "execution_count": 10,
   "id": "ad551e08",
   "metadata": {},
   "outputs": [
    {
     "name": "stdout",
     "output_type": "stream",
     "text": [
      "Number of Samples: 9621110\n",
      "Sample Frequency: 44100\n",
      "Sample Width: 2\n"
     ]
    }
   ],
   "source": [
    "import matplotlib.pyplot as plt\n",
    "import numpy as np\n",
    "\n",
    "# Open wav file.\n",
    "wav_obj = wave.open('Calvin Harris - Feel So Close.wav', 'rb')\n",
    "\n",
    "# Print Sample Frequency and Number of Samples.\n",
    "sample_freq = wav_obj.getframerate()\n",
    "n_samples = wav_obj.getnframes()\n",
    "sample_width = wav_obj.getsampwidth()\n",
    "\n",
    "print('Number of Samples:', n_samples)\n",
    "print('Sample Frequency:', sample_freq)\n",
    "print('Sample Width:', sample_width)"
   ]
  },
  {
   "cell_type": "markdown",
   "id": "ae7a598f",
   "metadata": {},
   "source": [
    "**Calculating Audio Length (X-Axis)**"
   ]
  },
  {
   "cell_type": "code",
   "execution_count": 11,
   "id": "b87f2023",
   "metadata": {},
   "outputs": [
    {
     "name": "stdout",
     "output_type": "stream",
     "text": [
      "Audio length: 218.16575963718822 (s)\n",
      "Number of samples in x-axis: 9621110\n"
     ]
    }
   ],
   "source": [
    "# Calculate length of audio in sec.\n",
    "t_audio = n_samples / sample_freq\n",
    "\n",
    "# Create n values (from 0 - 3.78 sec).\n",
    "times = np.linspace(0, t_audio, num=n_samples)\n",
    "\n",
    "# Print length of audio (s).\n",
    "print('Audio length:', t_audio, '(s)')\n",
    "print('Number of samples in x-axis:', len(times))"
   ]
  },
  {
   "cell_type": "markdown",
   "id": "b833169b",
   "metadata": {},
   "source": [
    "**Converting Audio into Amplitude values (Y-Axis)**"
   ]
  },
  {
   "cell_type": "code",
   "execution_count": 12,
   "id": "9fe42096",
   "metadata": {},
   "outputs": [],
   "source": [
    "# Get amplitude values of signal over time.\n",
    "signal_wave = wav_obj.readframes(n_samples) # returns a bytes object\n",
    "\n",
    "# Convert to np array to serve as y values in plot.\n",
    "signal_array = np.frombuffer(signal_wave, dtype=np.int16)"
   ]
  },
  {
   "cell_type": "code",
   "execution_count": 13,
   "id": "23381d4f",
   "metadata": {},
   "outputs": [
    {
     "data": {
      "text/plain": [
       "9621110.0"
      ]
     },
     "execution_count": 13,
     "metadata": {},
     "output_type": "execute_result"
    }
   ],
   "source": [
    "len(signal_array) / sample_width"
   ]
  },
  {
   "cell_type": "markdown",
   "id": "be837e55",
   "metadata": {},
   "source": [
    "**Split data into individual channels using array slicing**"
   ]
  },
  {
   "cell_type": "code",
   "execution_count": 14,
   "id": "b938a2b8",
   "metadata": {},
   "outputs": [],
   "source": [
    "# Split channels if Stereo.\n",
    "l_channel = signal_array[0::2]\n",
    "r_channel = signal_array[1::2]"
   ]
  },
  {
   "cell_type": "code",
   "execution_count": 15,
   "id": "c82e350a",
   "metadata": {},
   "outputs": [
    {
     "data": {
      "text/plain": [
       "9621110"
      ]
     },
     "execution_count": 15,
     "metadata": {},
     "output_type": "execute_result"
    }
   ],
   "source": [
    "len(l_channel)"
   ]
  },
  {
   "cell_type": "markdown",
   "id": "c20bad4c",
   "metadata": {},
   "source": [
    "**Plot Waveform**"
   ]
  },
  {
   "cell_type": "code",
   "execution_count": 16,
   "id": "bd5ea8f4",
   "metadata": {},
   "outputs": [
    {
     "data": {
      "image/png": "[encoded data removed]",
      "text/plain": [
       "<Figure size 1080x360 with 1 Axes>"
      ]
     },
     "metadata": {
      "needs_background": "light"
     },
     "output_type": "display_data"
    }
   ],
   "source": [
    "plt.figure(figsize=(15,5))\n",
    "plt.plot(times, r_channel)\n",
    "plt.title('Audio Signal')\n",
    "plt.ylabel('Signal Wave')\n",
    "plt.xlabel('Time (s)')\n",
    "plt.xlim(0, t_audio)\n",
    "\n",
    "plt.show()"
   ]
  },
  {
   "cell_type": "code",
   "execution_count": 17,
   "id": "05bf5b64",
   "metadata": {},
   "outputs": [],
   "source": [
    "# Close object.\n",
    "wav_obj.close()"
   ]
  },
  {
   "cell_type": "code",
   "execution_count": null,
   "id": "52a97100",
   "metadata": {},
   "outputs": [],
   "source": []
  }
 ],
 "metadata": {
  "kernelspec": {
   "display_name": "Python 3",
   "language": "python",
   "name": "python3"
  },
  "language_info": {
   "codemirror_mode": {
    "name": "ipython",
    "version": 3
   },
   "file_extension": ".py",
   "mimetype": "text/x-python",
   "name": "python",
   "nbconvert_exporter": "python",
   "pygments_lexer": "ipython3",
   "version": "3.8.8"
  }
 },
 "nbformat": 4,
 "nbformat_minor": 5
}
