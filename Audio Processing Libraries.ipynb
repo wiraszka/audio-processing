{
 "cells": [
  {
   "cell_type": "markdown",
   "id": "253f0c70",
   "metadata": {},
   "source": [
    "# Audio Processing Libraries"
   ]
  },
  {
   "cell_type": "markdown",
   "id": "f99d9c96",
   "metadata": {},
   "source": [
    "### TABLE OF CONTENTS:\n",
    "\n",
    "**3. IPython.display**  \n",
    "- Show and play audio files  \n",
    "\n",
    "**4. SoundFile**  \n",
    "- Read and write wav, flac, ogg and mat files  \n",
    "\n",
    "**5. PyAudio**  \n",
    "- 5.1 Record Audio\n",
    "\n",
    "**6. SoundDevice**  \n",
    "**7. PyDub**  \n",
    "**8. Librosa**  \n",
    "**9. Torchaudio** "
   ]
  },
  {
   "cell_type": "code",
   "execution_count": null,
   "id": "90a2d777",
   "metadata": {},
   "outputs": [],
   "source": []
  },
  {
   "cell_type": "code",
   "execution_count": null,
   "id": "c45d7d55",
   "metadata": {},
   "outputs": [],
   "source": []
  },
  {
   "cell_type": "code",
   "execution_count": null,
   "id": "fec411f4",
   "metadata": {},
   "outputs": [],
   "source": []
  },
  {
   "cell_type": "code",
   "execution_count": null,
   "id": "5883afb3",
   "metadata": {},
   "outputs": [],
   "source": []
  },
  {
   "cell_type": "code",
   "execution_count": null,
   "id": "3b0dccaf",
   "metadata": {},
   "outputs": [],
   "source": []
  },
  {
   "cell_type": "code",
   "execution_count": null,
   "id": "a1876954",
   "metadata": {},
   "outputs": [],
   "source": []
  }
 ],
 "metadata": {
  "kernelspec": {
   "display_name": "Python 3",
   "language": "python",
   "name": "python3"
  },
  "language_info": {
   "codemirror_mode": {
    "name": "ipython",
    "version": 3
   },
   "file_extension": ".py",
   "mimetype": "text/x-python",
   "name": "python",
   "nbconvert_exporter": "python",
   "pygments_lexer": "ipython3",
   "version": "3.8.8"
  }
 },
 "nbformat": 4,
 "nbformat_minor": 5
}
